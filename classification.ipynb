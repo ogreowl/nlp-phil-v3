{
 "cells": [
  {
   "cell_type": "markdown",
   "metadata": {},
   "source": [
    "In this file, we compare the embeddings of the references to the embedding of a different topic (in this case, 'ethics') via cosine similarity. After explorin the distribution and inspecting examples along the distribution, we set a threshold for what references should be classified as that topic.\n",
    "Then, we create a seperate csv file with only those references, which we'll later analyze seperately and put as an option in our visualization tool. "
   ]
  },
  {
   "cell_type": "code",
   "execution_count": null,
   "metadata": {},
   "outputs": [],
   "source": [
    "import pandas as pd\n",
    "pd.set_option('display.max_colwidth', None)\n",
    "\n",
    "\n",
    "df = pd.read_csv('references.csv')\n",
    "\n",
    "print(\"Top 10 contexts most similar to 'ethics':\\n\")\n",
    "top_10 = df.nlargest(1000, 'similarity')[['context', 'similarity']]\n",
    "for _, row in top_10.iterrows():\n",
    "    print(f\"Similarity: {row['similarity']:.4f}\")\n",
    "    print(f\"Context: {row['context']}\")\n",
    "    print(\"-\" * 100 + \"\\n\")\n",
    "\n",
    "print(\"\\nTop 10 contexts least similar to 'ethics':\\n\")\n",
    "bottom_10 = df.nsmallest(10, 'similarity')[['context', 'similarity']]\n",
    "for _, row in bottom_10.iterrows():\n",
    "    print(f\"Similarity: {row['similarity']:.4f}\")\n",
    "    print(f\"Context: {row['context']}\")\n",
    "    print(\"-\" * 100 + \"\\n\")"
   ]
  },
  {
   "cell_type": "code",
   "execution_count": null,
   "metadata": {},
   "outputs": [],
   "source": [
    "print(\"Similarity Distribution Analysis:\\n\")\n",
    "print(\"Basic Statistics:\")\n",
    "print(df['similarity'].describe())\n",
    "print(\"\\n\" + \"-\"*80 + \"\\n\")\n",
    "\n",
    "print(\"Distribution by ranges:\")\n",
    "ranges = [\n",
    "    (-1.0, 0.0),\n",
    "    (0.0, 0.2),\n",
    "    (0.2, 0.4),\n",
    "    (0.4, 0.6),\n",
    "    (0.6, 0.8),\n",
    "    (0.8, 1.0)\n",
    "]\n",
    "\n",
    "for start, end in ranges:\n",
    "    count = len(df[(df['similarity'] >= start) & (df['similarity'] < end)])\n",
    "    percentage = (count / len(df)) * 100\n",
    "    print(f\"Range {start:4.1f} to {end:4.1f}: {count:5d} items ({percentage:5.1f}%)\")"
   ]
  },
  {
   "cell_type": "code",
   "execution_count": null,
   "metadata": {},
   "outputs": [],
   "source": [
    "filtered_df = df[df['similarity'] > 0.26]\n",
    "output_file = 'art_filtered.csv'\n",
    "filtered_df.to_csv(output_file, index=False)\n",
    "print(f\"Created filtered dataset with {len(filtered_df)} rows (original had {len(df)} rows)\")\n",
    "print(f\"Saved to {output_file}\")\n"
   ]
  }
 ],
 "metadata": {
  "kernelspec": {
   "display_name": "Python 3",
   "language": "python",
   "name": "python3"
  },
  "language_info": {
   "name": "python",
   "version": "3.13.1"
  }
 },
 "nbformat": 4,
 "nbformat_minor": 2
}
